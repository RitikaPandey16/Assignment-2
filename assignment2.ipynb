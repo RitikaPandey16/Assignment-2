{
 "cells": [
  {
   "cell_type": "code",
   "execution_count": 2,
   "id": "cac1cd27-035b-4c91-a2ca-4520d3520154",
   "metadata": {},
   "outputs": [
    {
     "name": "stdout",
     "output_type": "stream",
     "text": [
      "[1, 3, 5, 7, 9, 11, 13, 15, 17, 19, 21, 23, 25]\n"
     ]
    }
   ],
   "source": [
    "#Q1 Which keyword is used to create a function? Create a function to return a list of odd numbers in the\n",
    "#range of 1 to 25.\n",
    "#In Python, the def keyword is used to create a function.\n",
    "def get_odd_numbers():\n",
    "    return [num for num in range(1, 26) if num % 2 != 0]\n",
    "\n",
    "# Call the function and print the result\n",
    "odd_numbers = get_odd_numbers()\n",
    "print(odd_numbers)\n"
   ]
  },
  {
   "cell_type": "code",
   "execution_count": 4,
   "id": "c3a15538-4c4b-47d5-a965-7f514fbc2383",
   "metadata": {},
   "outputs": [
    {
     "name": "stdout",
     "output_type": "stream",
     "text": [
      "Sum of numbers: 15\n"
     ]
    }
   ],
   "source": [
    "#Q2 Why *args and **kwargs is used in some functions? Create a function each for *args and **kwargs\n",
    "#to demonstrate their use.\n",
    "'''\n",
    "*args:\n",
    "Allows a function to accept a variable number of positional arguments.\n",
    "Useful when the number of inputs is not fixed.\n",
    "\n",
    "**kwargs:\n",
    "Allows a function to accept a variable number of keyword arguments. '''\n",
    "\n",
    "def sum_numbers(*args):\n",
    "    \"\"\"Function to calculate the sum of all positional arguments.\"\"\"\n",
    "    return sum(args)\n",
    "\n",
    "# Example Usage\n",
    "result = sum_numbers(1, 2, 3, 4, 5)\n",
    "print(f\"Sum of numbers: {result}\")\n",
    "\n",
    "\n"
   ]
  },
  {
   "cell_type": "code",
   "execution_count": 6,
   "id": "cda2b9e3-7665-4da2-9d88-1403c85db958",
   "metadata": {},
   "outputs": [
    {
     "name": "stdout",
     "output_type": "stream",
     "text": [
      "Name: John\n",
      "Age: 30\n",
      "City: New York\n",
      "Profession: Engineer\n"
     ]
    }
   ],
   "source": [
    "def print_person_details(**kwargs):\n",
    "    \"\"\"Function to print details about a person using keyword arguments.\"\"\"\n",
    "    for key, value in kwargs.items():\n",
    "        print(f\"{key.capitalize()}: {value}\")\n",
    "\n",
    "# Example Usage\n",
    "print_person_details(name=\"John\", age=30, city=\"New York\", profession=\"Engineer\")\n"
   ]
  },
  {
   "cell_type": "code",
   "execution_count": 8,
   "id": "1369fe4f-efc8-4ed8-bce2-f4839d6cef05",
   "metadata": {},
   "outputs": [
    {
     "name": "stdout",
     "output_type": "stream",
     "text": [
      "2\n",
      "4\n",
      "6\n",
      "8\n",
      "10\n"
     ]
    }
   ],
   "source": [
    "#Q3 What is an iterator in python? Name the method used to initialise the iterator object and the method\n",
    "#used for iteration. Use these methods to print the first five elements of the given list [2, 4, 6, 8, 10, 12, 14,\n",
    "#16, 18, 20].\n",
    "'''An iterator in Python is an object that allows you to traverse through all the elements in a collection (like a list or tuple) one at a time.'''\n",
    "# Given list\n",
    "numbers = [2, 4, 6, 8, 10, 12, 14, 16, 18, 20]\n",
    "\n",
    "# Create an iterator object\n",
    "iterator = iter(numbers)  # Equivalent to numbers.__iter__()\n",
    "\n",
    "# Use __next__() method to fetch elements\n",
    "print(next(iterator))  # 2\n",
    "print(next(iterator))  # 4\n",
    "print(next(iterator))  # 6\n",
    "print(next(iterator))  # 8\n",
    "print(next(iterator))  # 10\n"
   ]
  },
  {
   "cell_type": "code",
   "execution_count": 10,
   "id": "d650d39e-0b96-4d1c-9d0c-e87e14030da3",
   "metadata": {},
   "outputs": [
    {
     "name": "stdout",
     "output_type": "stream",
     "text": [
      "0\n",
      "1\n",
      "1\n",
      "2\n",
      "3\n"
     ]
    }
   ],
   "source": [
    "#Q4 What is a generator function in python? Why yield keyword is used? Give an example of a generator\n",
    "#function.\n",
    "'''A generator function in Python is a special type of function that produces a sequence of results (or values) \n",
    "one at a time using the yield keyword, instead of returning them all at once like a regular function.'''\n",
    "def fibonacci_generator(n):\n",
    "    \"\"\"A generator function to yield the first n Fibonacci numbers.\"\"\"\n",
    "    a, b = 0, 1\n",
    "    for _ in range(n):\n",
    "        yield a\n",
    "        a, b = b, a + b\n",
    "\n",
    "# Example Usage\n",
    "fib_gen = fibonacci_generator(5)  # Generate the first 5 Fibonacci numbers\n",
    "\n",
    "# Print the values one by one\n",
    "for num in fib_gen:\n",
    "    print(num)\n"
   ]
  },
  {
   "cell_type": "code",
   "execution_count": 12,
   "id": "9ae60fcd-dfc4-4a9b-813b-03610f809921",
   "metadata": {},
   "outputs": [
    {
     "name": "stdout",
     "output_type": "stream",
     "text": [
      "First 20 prime numbers:\n",
      "2\n",
      "3\n",
      "5\n",
      "7\n",
      "11\n",
      "13\n",
      "17\n",
      "19\n",
      "23\n",
      "29\n",
      "31\n",
      "37\n",
      "41\n",
      "43\n",
      "47\n",
      "53\n",
      "59\n",
      "61\n",
      "67\n",
      "71\n"
     ]
    }
   ],
   "source": [
    "#Q5 Create a generator function for prime numbers less than 1000. Use the next() method to print the\n",
    "#first 20 prime numbers.\n",
    "def prime_generator(limit):\n",
    "    \"\"\"Generator function to yield prime numbers less than a given limit.\"\"\"\n",
    "    for num in range(2, limit):\n",
    "        # Check if the number is prime\n",
    "        is_prime = all(num % i != 0 for i in range(2, int(num**0.5) + 1))\n",
    "        if is_prime:\n",
    "            yield num\n",
    "\n",
    "# Create a generator for prime numbers less than 1000\n",
    "primes = prime_generator(1000)\n",
    "\n",
    "# Use next() to print the first 20 prime numbers\n",
    "print(\"First 20 prime numbers:\")\n",
    "for _ in range(20):\n",
    "    print(next(primes))\n"
   ]
  },
  {
   "cell_type": "code",
   "execution_count": 14,
   "id": "15c4559f-0209-4fec-89aa-1234abade6a8",
   "metadata": {},
   "outputs": [
    {
     "name": "stdout",
     "output_type": "stream",
     "text": [
      "First 10 Fibonacci numbers:\n",
      "0\n",
      "1\n",
      "1\n",
      "2\n",
      "3\n",
      "5\n",
      "8\n",
      "13\n",
      "21\n",
      "34\n"
     ]
    }
   ],
   "source": [
    "#Q6 Write a python program to print the first 10 Fibonacci numbers using a while loop.\n",
    "# Initialize variables\n",
    "a, b = 0, 1\n",
    "count = 0\n",
    "limit = 10\n",
    "\n",
    "print(\"First 10 Fibonacci numbers:\")\n",
    "\n",
    "# Use a while loop to generate Fibonacci numbers\n",
    "while count < limit:\n",
    "    print(a)  # Print the current Fibonacci number\n",
    "    a, b = b, a + b  # Update to the next Fibonacci numbers\n",
    "    count += 1  # Increment the count\n"
   ]
  },
  {
   "cell_type": "code",
   "execution_count": 16,
   "id": "51eb676b-cb1f-4243-b201-6c339fb5799b",
   "metadata": {},
   "outputs": [
    {
     "name": "stdout",
     "output_type": "stream",
     "text": [
      "['p', 'w', 's', 'k', 'i', 'l', 'l', 's']\n"
     ]
    }
   ],
   "source": [
    "#Q7 Write a List Comprehension to iterate through the given string: ‘pwskills’.\n",
    "#Expected output: ['p', 'w', 's', 'k', 'i', 'l', 'l', 's']\n",
    "# Given string\n",
    "string = 'pwskills'\n",
    "\n",
    "# List comprehension to iterate through the string\n",
    "result = [char for char in string if char in 'pwskills']\n",
    "\n",
    "# Print the resulting list\n",
    "print(result)\n",
    "\n"
   ]
  },
  {
   "cell_type": "code",
   "execution_count": null,
   "id": "40f6c27c-1e8f-4046-9321-9fb311bf4204",
   "metadata": {},
   "outputs": [],
   "source": [
    "#Q8 Write a python program to check whether a given number is Palindrome or not using a while loop.\n"
   ]
  }
 ],
 "metadata": {
  "kernelspec": {
   "display_name": "Python 3 (ipykernel)",
   "language": "python",
   "name": "python3"
  },
  "language_info": {
   "codemirror_mode": {
    "name": "ipython",
    "version": 3
   },
   "file_extension": ".py",
   "mimetype": "text/x-python",
   "name": "python",
   "nbconvert_exporter": "python",
   "pygments_lexer": "ipython3",
   "version": "3.12.4"
  }
 },
 "nbformat": 4,
 "nbformat_minor": 5
}
